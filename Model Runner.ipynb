{
 "cells": [
  {
   "cell_type": "markdown",
   "metadata": {},
   "source": [
    "<h2>For quick implement code only.</h2>\n",
    "Implement model loader and apply prediction base on model. <BR>\n",
    "** This is only for testing, the real use is predict.py which integrate Flask for web browser interation **"
   ]
  },
  {
   "cell_type": "code",
   "execution_count": 1,
   "metadata": {
    "collapsed": false
   },
   "outputs": [],
   "source": [
    "import pandas as pd\n",
    "import numpy as np"
   ]
  },
  {
   "cell_type": "code",
   "execution_count": 2,
   "metadata": {
    "collapsed": false
   },
   "outputs": [
    {
     "name": "stdout",
     "output_type": "stream",
     "text": [
      "Index([u'RD1_WIN', u'RD2_WIN', u'RD3_WIN', u'RD4_WIN', u'RD5_WIN', u'RD6_WIN',\n",
      "       u'RD7_WIN', u'TEAM_RATING', u'TEAM_SEED', u'RANK', u'PCT', u'RPI',\n",
      "       u'PCT_NC', u'RPI_NC', u'RANK_NC', u'PCT_C', u'RPI_C', u'RANK_OLD',\n",
      "       u'ROAD', u'NC', u'OPP', u'WIN', u'LOSS', u'WL_1_25', u'WL_26_50',\n",
      "       u'WL_51_100', u'WL_101_200', u'WL_201', u'ND1'],\n",
      "      dtype='object')\n"
     ]
    }
   ],
   "source": [
    "#load data\n",
    "team_info = pd.read_csv('real_data.csv', header=0, index_col = 7)\n",
    "team_info_verse = pd.read_csv('verse_data.csv', header=0, index_col = 0)\n",
    "print team_info.columns"
   ]
  },
  {
   "cell_type": "markdown",
   "metadata": {},
   "source": [
    "**model data**\n",
    "\n",
    "rpi_diff + team_rating_diff + A_RPI + B_RPI + win_pct_diff +\n",
    "                A_RPI_C + B_RPI_C + TEAM_SEED_1 + TEAM_SEED + RD7_WIN + RD7_WIN_1 - 1"
   ]
  },
  {
   "cell_type": "code",
   "execution_count": 3,
   "metadata": {
    "collapsed": true
   },
   "outputs": [],
   "source": [
    "# load models\n",
    "from sklearn.externals import joblib\n",
    "decs_tree = joblib.load('models/larh_decision_t.model')\n",
    "rand_f = joblib.load('models/larh_random_forest.model')\n",
    "log_model = joblib.load('models/larh_logistic_reg.model')"
   ]
  },
  {
   "cell_type": "code",
   "execution_count": 4,
   "metadata": {
    "collapsed": false
   },
   "outputs": [
    {
     "name": "stdout",
     "output_type": "stream",
     "text": [
      "Kansas\n",
      "Connecticut\n"
     ]
    }
   ],
   "source": [
    "team1 = raw_input()\n",
    "team2 = raw_input()"
   ]
  },
  {
   "cell_type": "markdown",
   "metadata": {},
   "source": [
    "** real_data is used for first"
   ]
  },
  {
   "cell_type": "markdown",
   "metadata": {},
   "source": [
    "rpi_diff + team_rating_diff + A_RPI + B_RPI + win_pct_diff +\n",
    "                A_RPI_C + B_RPI_C + TEAM_SEED_1 + TEAM_SEED + RD7_WIN + RD7_WIN_1 - 1"
   ]
  },
  {
   "cell_type": "code",
   "execution_count": 5,
   "metadata": {
    "collapsed": false
   },
   "outputs": [
    {
     "name": "stdout",
     "output_type": "stream",
     "text": [
      "A\n"
     ]
    }
   ],
   "source": [
    "def create_test_dataset(team1, team2):\n",
    "    data = []\n",
    "    data.append(team_info.loc[team1, 'RPI'] - team_info.loc[team2, 'RPI']) #RPI diff\n",
    "    data.append(team_info.loc[team1, 'TEAM_RATING'] - team_info.loc[team2, 'TEAM_RATING']) #TEAM RATING\n",
    "    data.append(team_info.loc[team1, 'RPI']) #A_RPI\n",
    "    data.append(team_info.loc[team2, 'RPI']) #B_RPI\n",
    "    data.append(team_info.loc[team1, 'PCT'] - team_info.loc[team2, 'PCT']) #TEAM RATING\n",
    "    data.append(team_info.loc[team1, 'RPI_C']) #A_RPI_C\n",
    "    data.append(team_info.loc[team2, 'RPI_C']) #B_RPI_C\n",
    "    data.append(team_info.loc[team2, 'TEAM_SEED']) #TEAM_SEED 2\n",
    "    data.append(team_info.loc[team1, 'TEAM_SEED']) #TEAM_SEED\n",
    "    data.append(team_info.loc[team1, 'RD7_WIN']) # WIN_F 2\n",
    "    data.append(team_info.loc[team2, 'RD7_WIN']) # WIN_F 1\n",
    "    return data\n",
    "\n",
    "\n",
    "test_X = create_test_dataset(team1, team2)\n"
   ]
  },
  {
   "cell_type": "code",
   "execution_count": 7,
   "metadata": {
    "collapsed": false
   },
   "outputs": [
    {
     "name": "stdout",
     "output_type": "stream",
     "text": [
      "Epoch 1/10\n",
      "542/542 [==============================] - 0s - loss: 0.6691 - acc: 0.6365     \n",
      "Epoch 2/10\n",
      "542/542 [==============================] - 0s - loss: 0.6440 - acc: 0.6458     \n",
      "Epoch 3/10\n",
      "542/542 [==============================] - 0s - loss: 0.6291 - acc: 0.6568     \n",
      "Epoch 4/10\n",
      "542/542 [==============================] - 0s - loss: 0.6318 - acc: 0.6624     \n",
      "Epoch 5/10\n",
      "542/542 [==============================] - 0s - loss: 0.6227 - acc: 0.6421     \n",
      "Epoch 6/10\n",
      "542/542 [==============================] - 0s - loss: 0.6232 - acc: 0.6716     \n",
      "Epoch 7/10\n",
      "542/542 [==============================] - 0s - loss: 0.6278 - acc: 0.6587     \n",
      "Epoch 8/10\n",
      "542/542 [==============================] - 0s - loss: 0.6254 - acc: 0.6550     \n",
      "Epoch 9/10\n",
      "542/542 [==============================] - 0s - loss: 0.6242 - acc: 0.6568     \n",
      "Epoch 10/10\n",
      "542/542 [==============================] - 0s - loss: 0.6289 - acc: 0.6605     \n",
      "542/542 [==============================] - 0s     \n",
      "('loss: ', 0.61315785639840303)\n",
      "('accuracy: ', 0.6771217716575989)\n"
     ]
    },
    {
     "name": "stderr",
     "output_type": "stream",
     "text": [
      "Using TensorFlow backend.\n"
     ]
    }
   ],
   "source": [
    "from patsy import dmatrices\n",
    "import tensorflow as tf\n",
    "#load neural net\n",
    "df = pd.read_csv('train_data_x1.csv',header=0)\n",
    "df['win_pct_diff'] = df['A_PCT'] - df['B_PCT']\n",
    "df['rpi_diff'] = df['A_RPI'] - df['B_RPI']\n",
    "df['team_rating_diff'] = df['TEAM_RATING'] - df['TEAM_RATING_1']\n",
    "from keras.utils import np_utils\n",
    "\n",
    "y, X = dmatrices('TEAMRESULT ~ rpi_diff + team_rating_diff + A_RPI + B_RPI + win_pct_diff +\\\n",
    "                A_RPI_C + B_RPI_C + TEAM_SEED_1 + TEAM_SEED + RD7_WIN + RD7_WIN_1 - 1',\n",
    "                df, return_type='dataframe')\n",
    "\n",
    "X = X.values\n",
    "y = y.values\n",
    "\n",
    "dimof_input = X.shape[1]\n",
    "dimof_output = len(set(y.flat))\n",
    "\n",
    "y_test = np.ravel(y)\n",
    "# Set y categorical\n",
    "y = np_utils.to_categorical(y, dimof_output)\n",
    "from keras.models import Sequential\n",
    "from keras.layers.core import Dense, Activation, Dropout\n",
    "from keras.optimizers import SGD\n",
    "\n",
    "model = Sequential()\n",
    "\n",
    "# Set constants\n",
    "\n",
    "dimof_middle = 100\n",
    "dropout = 0.5\n",
    "\n",
    "verbose = 1\n",
    "\"\"\"MLP for classification (0,1)\"\"\"\n",
    "\n",
    "model.add(Dense(dimof_middle, input_dim=dimof_input, init=\"uniform\", activation='relu' ))\n",
    "model.add(Dropout(dropout))\n",
    "model.add(Dense(dimof_middle, init=\"uniform\", activation='relu' ))\n",
    "model.add(Dropout(dropout))\n",
    "model.add(Dense(dimof_output, activation='sigmoid'))\n",
    "\n",
    "model.compile(loss='binary_crossentropy',\n",
    "              optimizer='rmsprop')\n",
    "countof_epoch = 10\n",
    "batch_size = 64\n",
    "\n",
    "model.fit(\n",
    "    X, y,\n",
    "    show_accuracy=True,\n",
    "    batch_size=batch_size, nb_epoch=countof_epoch, verbose=verbose)\n",
    "\n",
    "loss, accuracy = model.evaluate(X, y, show_accuracy=True, verbose=verbose)\n",
    "print('loss: ', loss)\n",
    "print('accuracy: ', accuracy)"
   ]
  },
  {
   "cell_type": "code",
   "execution_count": 16,
   "metadata": {
    "collapsed": false
   },
   "outputs": [
    {
     "name": "stdout",
     "output_type": "stream",
     "text": [
      "[[  6.52000000e-02   9.80000000e+00   6.71300000e-01 ...,   1.00000000e+00\n",
      "    1.90982710e-01   8.50876000e-03]\n",
      " [  7.95000000e-02   1.31900000e+01   6.71300000e-01 ...,   1.00000000e+00\n",
      "    1.90982710e-01   4.04470000e-04]\n",
      " [  7.16000000e-02   8.99000000e+00   6.71300000e-01 ...,   1.00000000e+00\n",
      "    1.90982710e-01   1.02074200e-02]\n",
      " ..., \n",
      " [ -1.18100000e-01  -7.23000000e+00   4.75500000e-01 ...,   1.60000000e+01\n",
      "    1.90000000e-07   1.03520000e-04]\n",
      " [ -1.35500000e-01  -1.54100000e+01   4.75500000e-01 ...,   1.60000000e+01\n",
      "    1.90000000e-07   2.37548300e-02]\n",
      " [ -2.18500000e-01  -2.76100000e+01   4.52800000e-01 ...,   1.60000000e+01\n",
      "    1.00000000e-08   1.90982710e-01]]\n",
      "[[  9.42000000e-02   9.14000000e+00   6.71300000e-01   5.77100000e-01\n",
      "    1.89300000e-01   6.88000000e-01   5.83600000e-01   9.00000000e+00\n",
      "    1.00000000e+00   1.90982710e-01   3.27233000e-03]]\n",
      "1/1 [==============================] - 0s\n"
     ]
    },
    {
     "data": {
      "text/plain": [
       "array([[ 0.2147706 ,  0.77345568]])"
      ]
     },
     "execution_count": 16,
     "metadata": {},
     "output_type": "execute_result"
    }
   ],
   "source": [
    "print X\n",
    "print np.array([test_X])\n",
    "model.predict_proba(np.array([test_X]))"
   ]
  },
  {
   "cell_type": "code",
   "execution_count": null,
   "metadata": {
    "collapsed": true
   },
   "outputs": [],
   "source": []
  }
 ],
 "metadata": {
  "kernelspec": {
   "display_name": "Python 2",
   "language": "python",
   "name": "python2"
  },
  "language_info": {
   "codemirror_mode": {
    "name": "ipython",
    "version": 2
   },
   "file_extension": ".py",
   "mimetype": "text/x-python",
   "name": "python",
   "nbconvert_exporter": "python",
   "pygments_lexer": "ipython2",
   "version": "2.7.10"
  }
 },
 "nbformat": 4,
 "nbformat_minor": 0
}
