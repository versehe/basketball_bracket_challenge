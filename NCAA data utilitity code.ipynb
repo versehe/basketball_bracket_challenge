{
 "cells": [
  {
   "cell_type": "markdown",
   "metadata": {},
   "source": [
    "<H3>Data cleansing</H3> \n",
    "<P>Parsing collected raw data into usable format for neural network.</P>"
   ]
  },
  {
   "cell_type": "code",
   "execution_count": null,
   "metadata": {
    "Name": "ESPN data extracter",
    "collapsed": true,
    "slideshow": {
     "slide_type": "-"
    }
   },
   "outputs": [],
   "source": [
    "import pandas as pd\n",
    "import numpy as np\n",
    "import neurolab as nl\n"
   ]
  },
  {
   "cell_type": "code",
   "execution_count": 34,
   "metadata": {
    "collapsed": false
   },
   "outputs": [],
   "source": [
    "df = pd.read_csv('sample_data4.csv',header=0)"
   ]
  },
  {
   "cell_type": "markdown",
   "metadata": {},
   "source": [
    "<DIV>\n",
    "<H3><B> win_loss_ratio  </B></H3> <br>\n",
    "<B> Argument: </B> winloss (String) (\"Win-Loss\"). <br>\n",
    "Convert \"W-L\" format into percentage W/(W+L). (Float data type)\n",
    "\n",
    "<H3><B> convert_home_away  </B></H3>  <br>\n",
    "<B> Argument: </B> hmaway (String) (\"Home\", \"Away\"). <br>\n",
    "Convert \"home\", \"away\" or other string into integer (1, -1 or 0) respectively.\n",
    "\n",
    "<H3><B> convert_result </B></H3>  <br>\n",
    "<B> Argument: </B> result (String) (\"Win\", \"Loss\"). <br>\n",
    "Convert \"Win\", \"Loss\" or other string into integer (1 or 0) respectively.\n",
    "\n",
    "<H3><B> convert_winlossratio  </B></H3>  <br>\n",
    "<B> Arguments: </B> DataFrame(Pandas.dataframe) <br>\n",
    "Apply function win_loss_ratio to all columns that has W-L format in dataframe.\n",
    "\n",
    "<H3><B> seed_convert  </B></H3>  <br>\n",
    "<B> Arguments: </B> seed(String) <br>\n",
    "Remove none numeric from string. for instance, \"99.9%\" will become \"99.9\"\n",
    "\n",
    "</DIV>\n"
   ]
  },
  {
   "cell_type": "code",
   "execution_count": 36,
   "metadata": {
    "collapsed": false
   },
   "outputs": [
    {
     "name": "stdout",
     "output_type": "stream",
     "text": [
      "254\n",
      "98\n",
      "97\n"
     ]
    }
   ],
   "source": [
    "\"\"\"Common functions to parse data\"\"\"\n",
    "def win_loss_ratio(winloss):\n",
    "    arr = winloss.split('-')\n",
    "    win = int(arr[0])\n",
    "    loss = int(arr[1])\n",
    "    total = float(win + loss)\n",
    "    if total == 0:\n",
    "        return 0.0\n",
    "    else:\n",
    "        return round(win/total,6)\n",
    "    \n",
    "def convert_home_away(hmaway):\n",
    "    if hmaway.lower() == 'home':\n",
    "        return 1\n",
    "    elif hmaway.lower() == 'away':\n",
    "        return -1\n",
    "    else:\n",
    "        return 0\n",
    "\n",
    "def convert_result(result):\n",
    "    if result.lower() == 'win':\n",
    "        return 1\n",
    "    else:\n",
    "        return 0\n",
    "\n",
    "def convert_winlossratio(dataframe):\n",
    "    headers = list(dataframe.columns.values)\n",
    "    for column in headers:\n",
    "        if isinstance(dataframe[column][0],basestring):\n",
    "            if dataframe[column][0].count('-') == 1:\n",
    "                dataframe[column] = dataframe[column].map(win_loss_ratio)\n",
    "    return dataframe\n",
    "\n",
    "def seed_convert(seed):\n",
    "    import string\n",
    "    all=string.maketrans('','')\n",
    "    nodigs=all.translate(all, string.digits)\n",
    "    return int(seed.translate(all, nodigs))"
   ]
  },
  {
   "cell_type": "code",
   "execution_count": 1,
   "metadata": {
    "collapsed": false
   },
   "outputs": [
    {
     "data": {
      "text/plain": [
       "'Converting data - Seed'"
      ]
     },
     "execution_count": 1,
     "metadata": {},
     "output_type": "execute_result"
    }
   ],
   "source": [
    "\"\"\"Converting data - Win loss\"\"\"\n",
    "#df['TEAMLOCATION'] = df['TEAMLOCATION'].map(convert_home_away)\n",
    "#df['OPPONENTLOCATION'] = df['OPPONENTLOCATION'].map(convert_home_away)\n",
    "#df['TEAMRESULT'] = df['TEAMRESULT'].map(convert_result)\n",
    "#convert_winlossratio(df)\n",
    "\"\"\"Converting data - Seed\"\"\"      \n",
    "#df['TEAM_SEED'] = df['TEAM_SEED'].map(seed_convert)\n",
    "#df['TEAM_SEED_1'] = df['TEAM_SEED_1'].map(seed_convert)"
   ]
  },
  {
   "cell_type": "code",
   "execution_count": null,
   "metadata": {
    "collapsed": true
   },
   "outputs": [],
   "source": [
    "\"\"\"Save data back to csv.\"\"\"\n",
    "df.to_csv('verse_train_data.csv')"
   ]
  }
 ],
 "metadata": {
  "kernelspec": {
   "display_name": "Python 2",
   "language": "python",
   "name": "python2"
  },
  "language_info": {
   "codemirror_mode": {
    "name": "ipython",
    "version": 2
   },
   "file_extension": ".py",
   "mimetype": "text/x-python",
   "name": "python",
   "nbconvert_exporter": "python",
   "pygments_lexer": "ipython2",
   "version": "2.7.11"
  }
 },
 "nbformat": 4,
 "nbformat_minor": 0
}
