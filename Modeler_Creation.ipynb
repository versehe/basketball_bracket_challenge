{
 "cells": [
  {
   "cell_type": "markdown",
   "metadata": {},
   "source": [
    "<H2>Common Model Preparation</H2>\n",
    "<p>Implement sklearn-kit as core libraries. The models built in this way will be save for using in future application.</p>\n",
    "<p>Any data can be applied to this code as long as it contains TEAMRESULT as predictor</p> \n",
    "<p>while the rest parameters must be integer or float</p>\n",
    "\n",
    "<h3> Result </h3>\n",
    "<p> Using regular season data and calculate different between two teams to predict playoff outcome provide roughtly\n",
    "62% accuracy in playoff game. <b>The accuracy calculate from Bracket picked, if picked team disqualify since first round, the rest round result will be immediantly treated as invalid.</b></p>\n",
    "\n",
    "<p> Accuracy is not satisfy enough to use in actual prediction application. </p>\n",
    "\n",
    "<h3> Future improvement </h3>\n",
    "- Consider other data variables apart from regular season team statistics and player statistic - key player , coach experience, team synergies (played together for long time)\n",
    "- A lot of unpredictable factor in playoff, since it play only one game not 7 games like NBA. \n",
    "\n",
    "\n",
    "A lot of expectation happenned in first round, For example Michigan which is 2nd seed lost to 15nd seed Middle Tenn. \n",
    "\n",
    "\n",
    "<H2>List of utility functions</H2>\n",
    "<H3><B>  create_min_max_range(DataFram, Column_name)  </B></H3> <br>\n",
    "<B> Arguments: </B> DataFrame(Pandas.dataframe), Column_name (String) <br>\n",
    "<i>Find min,max of specific column on input data frame. Output will be tuple of [min,max]. <br>\n",
    "If data is not number, output will be [0,0] </i>\n",
    "\n",
    "<H3><B>  plot_c_matrix(predict, actual )  </B></H3> <br>\n",
    "<B> Arguments: </B> predict(np.array),actual result(np.array) <br>\n",
    "<i> plot confuse matrix base on prediction to actual result. Value 0 mean lose, 1 mean win </i>\n"
   ]
  },
  {
   "cell_type": "code",
   "execution_count": 1,
   "metadata": {
    "collapsed": false
   },
   "outputs": [],
   "source": [
    "import pandas as pd\n",
    "import numpy as np\n",
    "from sklearn.cross_validation import cross_val_score, ShuffleSplit\n",
    "from sklearn import linear_model\n",
    "from patsy import dmatrices\n",
    "from sklearn.cross_validation import train_test_split\n",
    "from sklearn import metrics\n",
    "from sklearn.metrics import confusion_matrix\n",
    "import matplotlib.pyplot as plt\n",
    "from scipy import stats\n",
    "import seaborn"
   ]
  },
  {
   "cell_type": "code",
   "execution_count": 2,
   "metadata": {
    "collapsed": true
   },
   "outputs": [],
   "source": [
    "#utilities functions\n",
    "\n",
    "# team result = (0,1) or (lose,win)\n",
    "team_result_meta = ['Lose','Win']\n",
    "%matplotlib inline\n",
    "\n",
    "\"\"\" Min max calculation function : for neural lab \"\"\"\n",
    "def create_min_max_range(dataframe, column_name):\n",
    "    # check if column is not string\n",
    "    if(dataframe[column_name].dtype == np.float64 or dataframe[column_name].dtype == np.int64):\n",
    "        return [round(dataframe[column_name].min(),6), round(dataframe[column_name].max(),6)]\n",
    "    else:\n",
    "        #return 0,0 as string\n",
    "        return [0,0]\n",
    "\n",
    "\"\"\" Confusion matrix plot \"\"\"\n",
    "def plot_c_matrix(predict, actual):\n",
    "    %matplotlib inline\n",
    "    cm = confusion_matrix(actual, predict)\n",
    "    cm_normalized = cm.astype('float') / cm.sum(axis=1)[:, np.newaxis]\n",
    "    print cm\n",
    "    plt.imshow(cm , interpolation='nearest', cmap=plt.cm.Blues)\n",
    "    plt.colorbar()\n",
    "    tick_marks = np.arange(len(team_result_meta))\n",
    "    plt.xticks(tick_marks, team_result_meta)\n",
    "    plt.yticks(tick_marks, team_result_meta)\n",
    "    plt.tight_layout()\n",
    "    plt.ylabel('Actual')\n",
    "    plt.xlabel('Predicted')\n",
    "    \n",
    "#display configure\n",
    "np.set_printoptions(precision=4)"
   ]
  },
  {
   "cell_type": "markdown",
   "metadata": {},
   "source": [
    "\n",
    "<h3><b>Load csv data</b></h3> \n",
    "<i>Match data, basically data consists of two teams (A,B) with match result <br> \n",
    "0 for A lose and 1 for 1 win. All data can be used in model building</i>\n"
   ]
  },
  {
   "cell_type": "code",
   "execution_count": 3,
   "metadata": {
    "collapsed": false
   },
   "outputs": [
    {
     "name": "stdout",
     "output_type": "stream",
     "text": [
      "Index([u'TEAMRESULT', u'A_PCT', u'A_RPI', u'A_PCT_NC', u'A_RPI_NC',\n",
      "       u'A_RANK_NC', u'A_PCT_C', u'A_RPI_C', u'A_RANK_C', u'A_ROAD', u'A_NC',\n",
      "       u'A_OPP', u'A_WIN_F', u'A_LOST_F', u'A_WL_1_25', u'A_WL_26_50',\n",
      "       u'A_WL_51_100', u'A_WL_101_200', u'A_WL_201', u'A_ND1', u'B_PCT',\n",
      "       u'B_RPI', u'B_PCT_NC', u'B_RPI_NC', u'B_RANK_NC', u'B_PCT_C',\n",
      "       u'B_RPI_C', u'B_RANK_C', u'B_ROAD', u'B_NC', u'B_OPP', u'B_WIN_F',\n",
      "       u'B_LOST_F', u'B_WL_1_25', u'B_WL_26_50', u'B_WL_51_100',\n",
      "       u'B_WL_101_200', u'B_WL_201', u'B_ND1', u'PLAYIN_FLAG', u'RD1_WIN',\n",
      "       u'RD2_WIN', u'RD3_WIN', u'RD4_WIN', u'RD5_WIN', u'RD6_WIN', u'RD7_WIN',\n",
      "       u'TEAM_RATING', u'TEAM_SEED', u'PLAYIN_FLAG_1', u'RD1_WIN_1',\n",
      "       u'RD2_WIN_1', u'RD3_WIN_1', u'RD4_WIN_1', u'RD5_WIN_1', u'RD6_WIN_1',\n",
      "       u'RD7_WIN_1', u'TEAM_RATING_1', u'TEAM_SEED_1'],\n",
      "      dtype='object')\n",
      "Index([u'TEAMRESULT', u'RK', u'SEED', u'S16', u'E8', u'FF', u'NC', u'W_SIM',\n",
      "       u'CURRENTWINPCT', u'OVERALLWINPCT', u'RK_1', u'SEED_1', u'S16_1',\n",
      "       u'E8_1', u'FF_1', u'NC_1', u'W_SIM_1', u'CURRENTWINPCT_1',\n",
      "       u'OVERALLWINPCT_1'],\n",
      "      dtype='object')\n"
     ]
    }
   ],
   "source": [
    "test_ratio = 0.2\n",
    "df = pd.read_csv('train_data_x1.csv',header=0)\n",
    "vdf = pd.read_csv('train_data_x2.csv', header=0)\n",
    "print df.columns\n",
    "print vdf.columns"
   ]
  },
  {
   "cell_type": "markdown",
   "metadata": {},
   "source": [
    "### Data Analysis\n",
    "We want to know if there are some different between.\n",
    "1. team result ~ win percentage of team A and B.\n",
    "2. team result ~ team rating of A and B.\n",
    "\n",
    "_Negative value mean team A has lower games stat than B_\n",
    "\n",
    "From output, team rating, win percentage and rpi are related to match result.\n",
    "\n",
    "It's obvious because win percentage, rpi and team rating are calculated from regular season matches.\n",
    "\n",
    "Basically, it inherits from match results. So using these data are actually pointless.\n",
    "\n",
    "It's more like we use full regular season stat to predict that regular season match.\n",
    "\n",
    "To improve it, the approach could be\n",
    "1. Use regular season 2015-2016 data, train with matches from playoff 2015-2016, Get model\n",
    "2. Use that model with regular season 2016-2017 to predict playoff result for 2016-2017"
   ]
  },
  {
   "cell_type": "code",
   "execution_count": 4,
   "metadata": {
    "collapsed": false
   },
   "outputs": [
    {
     "data": {
      "text/html": [
       "<div>\n",
       "<table border=\"1\" class=\"dataframe\">\n",
       "  <thead>\n",
       "    <tr style=\"text-align: right;\">\n",
       "      <th></th>\n",
       "      <th>win_pct_diff</th>\n",
       "      <th>rpi_diff</th>\n",
       "      <th>team_rating_diff</th>\n",
       "    </tr>\n",
       "    <tr>\n",
       "      <th>TEAMRESULT</th>\n",
       "      <th></th>\n",
       "      <th></th>\n",
       "      <th></th>\n",
       "    </tr>\n",
       "  </thead>\n",
       "  <tbody>\n",
       "    <tr>\n",
       "      <th>0</th>\n",
       "      <td>-0.035529</td>\n",
       "      <td>-0.019347</td>\n",
       "      <td>-2.199742</td>\n",
       "    </tr>\n",
       "    <tr>\n",
       "      <th>1</th>\n",
       "      <td>0.035529</td>\n",
       "      <td>0.019347</td>\n",
       "      <td>2.199742</td>\n",
       "    </tr>\n",
       "  </tbody>\n",
       "</table>\n",
       "</div>"
      ],
      "text/plain": [
       "            win_pct_diff  rpi_diff  team_rating_diff\n",
       "TEAMRESULT                                          \n",
       "0              -0.035529 -0.019347         -2.199742\n",
       "1               0.035529  0.019347          2.199742"
      ]
     },
     "execution_count": 4,
     "metadata": {},
     "output_type": "execute_result"
    }
   ],
   "source": [
    "df2 = df\n",
    "df2['win_pct_diff'] = df['A_PCT'] - df['B_PCT']\n",
    "df2['rpi_diff'] = df['A_RPI'] - df['B_RPI']\n",
    "df2['team_rating_diff'] = df['TEAM_RATING'] - df['TEAM_RATING_1']\n",
    "df2.groupby('TEAMRESULT').mean()[['win_pct_diff','rpi_diff','team_rating_diff']]"
   ]
  },
  {
   "cell_type": "code",
   "execution_count": 5,
   "metadata": {
    "collapsed": false
   },
   "outputs": [
    {
     "data": {
      "text/plain": [
       "<matplotlib.figure.Figure at 0x108e32750>"
      ]
     },
     "metadata": {},
     "output_type": "display_data"
    },
    {
     "name": "stderr",
     "output_type": "stream",
     "text": [
      "/usr/local/lib/python2.7/site-packages/matplotlib/collections.py:590: FutureWarning: elementwise comparison failed; returning scalar instead, but in the future will perform elementwise comparison\n",
      "  if self._edgecolors == str('face'):\n"
     ]
    },
    {
     "data": {
      "image/png": "[encoded data removed]",
      "text/plain": [
       "<matplotlib.figure.Figure at 0x108e1a890>"
      ]
     },
     "metadata": {},
     "output_type": "display_data"
    },
    {
     "data": {
      "image/png": "[encoded data removed]",
      "text/plain": [
       "<matplotlib.figure.Figure at 0x109501ad0>"
      ]
     },
     "metadata": {},
     "output_type": "display_data"
    },
    {
     "data": {
      "image/png": "[encoded data removed]",
      "text/plain": [
       "<matplotlib.figure.Figure at 0x10977d950>"
      ]
     },
     "metadata": {},
     "output_type": "display_data"
    }
   ],
   "source": [
    "#plot some scatter\n",
    "\n",
    "plt.clf()\n",
    "ax1 = seaborn.jointplot(x='A_RPI', y='TEAMRESULT', color='r', data=df, size=4, ratio=3)\n",
    "ax2 = seaborn.jointplot(x='TEAM_RATING', y='A_PCT', data=df, size=4)\n",
    "ax3 = seaborn.jointplot(x='TEAM_SEED', y='RD7_WIN', color='g', data=df, size=4)"
   ]
  },
  {
   "cell_type": "markdown",
   "metadata": {},
   "source": [
    "### Variables analysis\n",
    "\n",
    "First we input all variable into f_regression function to analysis f-score and p-value of each variables.\n"
   ]
  },
  {
   "cell_type": "code",
   "execution_count": 6,
   "metadata": {
    "collapsed": false
   },
   "outputs": [],
   "source": [
    "#variables selection\n",
    "#all variables selections\n",
    "#formula = ' + '.join(df.columns[1:])\n",
    "\n",
    "y, X = dmatrices('TEAMRESULT ~ A_PCT + A_RPI + A_PCT_NC + A_RPI_NC + A_RANK_NC + A_PCT_C + A_RPI_C + \\\n",
    "                A_RANK_C + A_ROAD + A_NC + A_OPP + A_WIN_F + A_LOST_F + A_WL_1_25 + A_WL_26_50 + A_WL_51_100 + \\\n",
    "                A_WL_101_200 + A_WL_201 + A_ND1 + B_PCT + B_RPI + B_PCT_NC + B_RPI_NC + B_RANK_NC + B_PCT_C + \\\n",
    "                B_RPI_C + B_RANK_C + B_ROAD + B_NC + B_OPP + B_WIN_F + B_LOST_F + B_WL_1_25 + B_WL_26_50 + \\\n",
    "                B_WL_51_100 + B_WL_101_200 + B_WL_201 + B_ND1 + PLAYIN_FLAG + RD1_WIN + RD2_WIN + RD3_WIN + \\\n",
    "                RD4_WIN + RD5_WIN + RD6_WIN + RD7_WIN + TEAM_RATING + TEAM_SEED + PLAYIN_FLAG_1 + RD1_WIN_1 + \\\n",
    "                RD2_WIN_1 + RD3_WIN_1 + RD4_WIN_1 + RD5_WIN_1 + RD6_WIN_1 + RD7_WIN_1 + TEAM_RATING_1 + \\\n",
    "                TEAM_SEED_1 + win_pct_diff + rpi_diff + team_rating_diff - 1',\n",
    "                df, return_type='dataframe')\n",
    "y = np.ravel(y)"
   ]
  },
  {
   "cell_type": "code",
   "execution_count": 7,
   "metadata": {
    "collapsed": false
   },
   "outputs": [
    {
     "name": "stdout",
     "output_type": "stream",
     "text": [
      "rpi_diff\t\t118.1255\t\t0.0000\n",
      "team_rating_diff\t\t68.2620\t\t0.0000\n",
      "A_RPI\t\t49.6581\t\t0.0000\n",
      "B_RPI\t\t49.6581\t\t0.0000\n",
      "win_pct_diff\t\t49.6511\t\t0.0000\n",
      "A_RPI_C\t\t44.2083\t\t0.0000\n",
      "B_RPI_C\t\t44.2083\t\t0.0000\n",
      "TEAM_SEED_1\t\t43.7271\t\t0.0000\n",
      "TEAM_SEED\t\t43.7271\t\t0.0000\n",
      "B_WIN_F\t\t42.5354\t\t0.0000\n",
      "A_WIN_F\t\t42.5354\t\t0.0000\n",
      "B_WL_26_50\t\t39.6513\t\t0.0000\n",
      "A_WL_26_50\t\t39.6513\t\t0.0000\n",
      "B_WL_1_25\t\t38.5298\t\t0.0000\n",
      "A_WL_1_25\t\t38.5298\t\t0.0000\n",
      "B_RANK_C\t\t36.6844\t\t0.0000\n",
      "A_RANK_C\t\t36.6844\t\t0.0000\n",
      "RD2_WIN\t\t32.8307\t\t0.0000\n",
      "RD2_WIN_1\t\t32.8307\t\t0.0000\n",
      "RD3_WIN_1\t\t32.2652\t\t0.0000\n",
      "RD3_WIN\t\t32.2652\t\t0.0000\n",
      "A_RPI_NC\t\t31.4592\t\t0.0000\n",
      "B_RPI_NC\t\t31.4592\t\t0.0000\n",
      "TEAM_RATING\t\t28.9207\t\t0.0000\n",
      "TEAM_RATING_1\t\t28.9207\t\t0.0000\n",
      "RD4_WIN_1\t\t27.1343\t\t0.0000\n",
      "RD4_WIN\t\t27.1343\t\t0.0000\n",
      "A_PCT\t\t27.0300\t\t0.0000\n",
      "B_PCT\t\t27.0300\t\t0.0000\n",
      "B_RANK_NC\t\t26.6531\t\t0.0000\n",
      "A_RANK_NC\t\t26.6531\t\t0.0000\n",
      "A_OPP\t\t22.6906\t\t0.0000\n",
      "B_OPP\t\t22.6906\t\t0.0000\n",
      "RD5_WIN\t\t21.9996\t\t0.0000\n",
      "RD5_WIN_1\t\t21.9996\t\t0.0000\n",
      "A_PCT_NC\t\t21.9741\t\t0.0000\n",
      "B_PCT_NC\t\t21.9741\t\t0.0000\n",
      "B_WL_51_100\t\t21.2590\t\t0.0000\n",
      "A_WL_51_100\t\t21.2590\t\t0.0000\n",
      "RD6_WIN\t\t18.9024\t\t0.0000\n",
      "RD6_WIN_1\t\t18.9024\t\t0.0000\n",
      "RD7_WIN\t\t16.6000\t\t0.0001\n",
      "RD7_WIN_1\t\t16.6000\t\t0.0001\n",
      "B_PCT_C\t\t7.4940\t\t0.0064\n",
      "A_PCT_C\t\t7.4940\t\t0.0064\n",
      "A_NC\t\t6.5293\t\t0.0109\n",
      "B_NC\t\t6.5293\t\t0.0109\n",
      "PLAYIN_FLAG_1\t\t5.7225\t\t0.0171\n",
      "PLAYIN_FLAG\t\t5.7225\t\t0.0171\n",
      "RD1_WIN\t\t5.3507\t\t0.0211\n",
      "RD1_WIN_1\t\t5.3507\t\t0.0211\n",
      "B_ROAD\t\t4.5729\t\t0.0329\n",
      "A_ROAD\t\t4.5729\t\t0.0329\n",
      "A_WL_201\t\t2.0159\t\t0.1562\n",
      "B_WL_201\t\t2.0159\t\t0.1562\n",
      "A_LOST_F\t\t1.9575\t\t0.1624\n",
      "B_LOST_F\t\t1.9575\t\t0.1624\n",
      "B_ND1\t\t1.9471\t\t0.1635\n",
      "A_ND1\t\t1.9471\t\t0.1635\n",
      "B_WL_101_200\t\t1.6165\t\t0.2041\n",
      "A_WL_101_200\t\t1.6165\t\t0.2041\n"
     ]
    }
   ],
   "source": [
    "#calculate correlation for x1 data which has many variables\n",
    "#corr = df.corr().abs()\n",
    "#remove lower out\n",
    "#mask = np.zeros_like(corr)\n",
    "#mask[np.triu_indices_from(mask)] = True\n",
    "#corr = corr * mask\n",
    "\n",
    "from sklearn.feature_selection import f_regression\n",
    "In = X\n",
    "Expect = y\n",
    "\n",
    "f_scores_x1 = f_regression(In, Expect)\n",
    "final = sorted(zip(f_scores_x1[0],f_scores_x1[1], X.columns), reverse=True)\n",
    "\n",
    "for m,n,o in final:\n",
    "    print '%s\\t\\t%.4f\\t\\t%.4f' % (o,m,n)"
   ]
  },
  {
   "cell_type": "markdown",
   "metadata": {},
   "source": [
    "#### On X1 variables p-value\n",
    "\n",
    "From F-scores and P-Value,\n",
    "\n",
    "    rpi_diff\t\t118.1255\t\t0.0000\n",
    "\n",
    "    team_rating_diff\t\t68.2620\t\t0.0000\n",
    "\n",
    "    A_RPI\t\t49.6581\t\t0.0000\n",
    "\n",
    "    B_RPI\t\t49.6581\t\t0.0000\n",
    "\n",
    "    win_pct_diff\t\t49.6511\t\t0.0000\n",
    "\n",
    "    A_RPI_C\t\t44.2083\t\t0.0000\n",
    "\n",
    "    B_RPI_C\t\t44.2083\t\t0.0000\n",
    "\n",
    "    TEAM_SEED_1\t\t43.7271\t\t0.0000\n",
    "\n",
    "    TEAM_SEED\t\t43.7271\t\t0.0000\n",
    "\n",
    "    B_WIN_F\t\t42.5354\t\t0.0000\n",
    "\n",
    "    A_WIN_F\t\t42.5354\t\t0.0000"
   ]
  },
  {
   "cell_type": "code",
   "execution_count": 8,
   "metadata": {
    "collapsed": true
   },
   "outputs": [],
   "source": [
    "y, X = dmatrices('TEAMRESULT ~ rpi_diff + team_rating_diff + A_RPI + B_RPI + win_pct_diff +\\\n",
    "                A_RPI_C + B_RPI_C + TEAM_SEED_1 + TEAM_SEED + RD7_WIN + RD7_WIN_1 - 1',\n",
    "                df, return_type='dataframe')\n",
    "y = np.ravel(y)\n",
    "\n",
    "X_train, X_test, y_train, y_test = train_test_split(X, y, test_size=test_ratio, random_state=0)"
   ]
  },
  {
   "cell_type": "code",
   "execution_count": 9,
   "metadata": {
    "collapsed": false
   },
   "outputs": [
    {
     "data": {
      "image/png": "[encoded data removed]",
      "text/plain": [
       "<matplotlib.figure.Figure at 0x109d00450>"
      ]
     },
     "metadata": {},
     "output_type": "display_data"
    }
   ],
   "source": [
    "# X2 data calculate correlation and plot it out as heatmap with seasborn\n",
    "corr = vdf.corr().abs()\n",
    "mask = np.zeros_like(corr)\n",
    "mask[np.triu_indices_from(mask)] = True\n",
    "seaborn.heatmap(corr, cmap='Blues', vmax=1.0, vmin=0.0 , mask = mask, linewidths=3)\n",
    "plt.yticks(rotation=0) \n",
    "plt.xticks(rotation=90) \n",
    "plt.show()"
   ]
  },
  {
   "cell_type": "markdown",
   "metadata": {},
   "source": [
    "<h4>On X2 Correlation</h4>\n",
    "On x2 data, Kind of obvious result, most of variables related to each other. very high correlation on \n",
    "1. RK - S16\n",
    "2. RK- W_SIM\n",
    "3. S16 - W_SIM\n",
    "4. S16 - E8\n",
    "5. E8 - FF\n",
    "6. FF - NC\n",
    "These also applied for second team variables, \n",
    "It's reasonable, \n",
    "- if team has high win percentage, it's more likely that team will pass each round. \n",
    "- if team has higher percentage to pass first round, it's noramlly that it will has higher for next round\n",
    "So we can either remove all variables except W_SIM for each team it could be enough."
   ]
  },
  {
   "cell_type": "code",
   "execution_count": 10,
   "metadata": {
    "collapsed": false
   },
   "outputs": [],
   "source": [
    "\"\"\" \n",
    "Prepare column name that will be used in neural network modeling. \n",
    "All column in data frame will be used. Any string column will be removed from data frame\n",
    "\"\"\"\n",
    "#create list of processing columns\n",
    "headers = list(X_train.columns.values)\n",
    "neural_axis = []\n",
    "#apply min max function\n",
    "for header in headers:\n",
    "    neural_axis.append(create_min_max_range(X_train, header))\n"
   ]
  },
  {
   "cell_type": "markdown",
   "metadata": {},
   "source": [
    "<H3>Logistic Regression</H3>\n",
    "<p></p>"
   ]
  },
  {
   "cell_type": "code",
   "execution_count": 11,
   "metadata": {
    "collapsed": false
   },
   "outputs": [
    {
     "name": "stdout",
     "output_type": "stream",
     "text": [
      "model accuracy(train):  0.674364896074\n",
      "model accuracy(test):  0.724770642202\n",
      "model params:  Index([u'rpi_diff', u'team_rating_diff', u'A_RPI', u'B_RPI', u'win_pct_diff',\n",
      "       u'A_RPI_C', u'B_RPI_C', u'TEAM_SEED_1', u'TEAM_SEED', u'RD7_WIN',\n",
      "       u'RD7_WIN_1'],\n",
      "      dtype='object')\n",
      "rpi_diff => 20.976435\n",
      "team_rating_diff => -0.092773\n",
      "A_RPI => 0.000000\n",
      "B_RPI => 0.000000\n",
      "win_pct_diff => -2.205501\n",
      "A_RPI_C => 2.158609\n",
      "B_RPI_C => -1.661778\n",
      "TEAM_SEED_1 => 0.132281\n",
      "TEAM_SEED => -0.156246\n",
      "RD7_WIN => 0.000000\n",
      "RD7_WIN_1 => -1.350701\n",
      "==== validation =====\n",
      "[[48 22]\n",
      " [ 8 31]]\n"
     ]
    },
    {
     "data": {
      "image/png": "[encoded data removed]",
      "text/plain": [
       "<matplotlib.figure.Figure at 0x108e32590>"
      ]
     },
     "metadata": {},
     "output_type": "display_data"
    }
   ],
   "source": [
    "#logistic regression on train data set\n",
    "model = linear_model.LogisticRegression(C=10, penalty='l1')\n",
    "model = model.fit(X_train,y_train)\n",
    "\n",
    "#predict\n",
    "y_predicted = model.predict(X_test)\n",
    "y_predicted_proba = model.predict_proba(X_test)\n",
    "\n",
    "print 'model accuracy(train): ', model.score(X_train, y_train)\n",
    "print 'model accuracy(test): ', model.score(X_test,y_test)\n",
    "print 'model params: ', X_train.columns\n",
    "for vr,vl in zip(X.columns,np.ravel(np.transpose(model.coef_))): \n",
    "    print '%s => %.6f' % (vr,vl)\n",
    "print '==== validation ====='\n",
    "plot_c_matrix(y_predicted, y_test)"
   ]
  },
  {
   "cell_type": "code",
   "execution_count": 12,
   "metadata": {
    "collapsed": false
   },
   "outputs": [
    {
     "name": "stdout",
     "output_type": "stream",
     "text": [
      "best threshold: 0.623 with score:  0.8257\n"
     ]
    },
    {
     "data": {
      "text/plain": [
       "<matplotlib.axes._subplots.AxesSubplot at 0x109e89490>"
      ]
     },
     "execution_count": 12,
     "metadata": {},
     "output_type": "execute_result"
    },
    {
     "data": {
      "image/png": "[encoded data removed]",
      "text/plain": [
       "<matplotlib.figure.Figure at 0x109e81290>"
      ]
     },
     "metadata": {},
     "output_type": "display_data"
    }
   ],
   "source": [
    "# find cut off threshold by brute force\n",
    "accuracy = pd.DataFrame(columns=('threshold','score'))\n",
    "\n",
    "best_predicted = []\n",
    "best_score = 0.00\n",
    "best_threshold = 0.00\n",
    "\n",
    "for i in range(0,1001):\n",
    "    ratio = i/1000.00\n",
    "    #focus on win\n",
    "    y_predicted_new = (y_predicted_proba[:,1] > ratio).astype(np.float)\n",
    "    score = metrics.accuracy_score(y_test, y_predicted_new)\n",
    "    accuracy.loc[i] = [ratio, score]\n",
    "    if score > best_score:\n",
    "        best_score, best_predicted, best_threshold = score, y_predicted_new, ratio\n",
    "        \n",
    "\n",
    "%matplotlib inline\n",
    "print 'best threshold: %.3f with score:  %.4f' % (best_threshold, best_score)\n",
    "accuracy.plot(x='threshold', y='score')"
   ]
  },
  {
   "cell_type": "code",
   "execution_count": 14,
   "metadata": {
    "collapsed": false
   },
   "outputs": [
    {
     "name": "stdout",
     "output_type": "stream",
     "text": [
      "[[65  5]\n",
      " [14 25]]\n"
     ]
    },
    {
     "data": {
      "image/png": "[encoded data removed]",
      "text/plain": [
       "<matplotlib.figure.Figure at 0x109e3ac10>"
      ]
     },
     "metadata": {},
     "output_type": "display_data"
    }
   ],
   "source": [
    "#new confuse matrix\n",
    "plot_c_matrix(best_predicted, y_test)"
   ]
  },
  {
   "cell_type": "code",
   "execution_count": 15,
   "metadata": {
    "collapsed": false
   },
   "outputs": [
    {
     "name": "stdout",
     "output_type": "stream",
     "text": [
      "decision tree accuracy(train):  0.898383371824\n",
      "decision accuracy(test):  0.48623853211\n",
      "====== Parameters analysis ========\n",
      "rpi_diff\t0.3215\n",
      "team_rating_diff\t0.1645\n",
      "win_pct_diff\t0.1291\n",
      "TEAM_SEED\t0.0764\n",
      "B_RPI_C\t0.0645\n",
      "TEAM_SEED_1\t0.0585\n",
      "RD7_WIN\t0.0519\n",
      "A_RPI\t0.0383\n",
      "B_RPI\t0.0369\n",
      "RD7_WIN_1\t0.0322\n",
      "A_RPI_C\t0.0262\n",
      "==== validation =====\n",
      "[[31 39]\n",
      " [17 22]]\n"
     ]
    },
    {
     "data": {
      "image/png": "[encoded data removed]",
      "text/plain": [
       "<matplotlib.figure.Figure at 0x109e4e7d0>"
      ]
     },
     "metadata": {},
     "output_type": "display_data"
    }
   ],
   "source": [
    "#decision tree\n",
    "from sklearn import tree\n",
    "clf = tree.DecisionTreeClassifier()\n",
    "clf = clf.fit(X_train, y_train)\n",
    "\n",
    "\n",
    "#predict\n",
    "y_predicted = clf.predict(X_test)\n",
    "y_predicted_proba = clf.predict_proba(X_test)\n",
    "\n",
    "print 'decision tree accuracy(train): ', clf.score(X_train, y_train)\n",
    "print 'decision accuracy(test): ', clf.score(X_test,y_test)\n",
    "print '====== Parameters analysis ========'\n",
    "for x,y in sorted(zip(X_train.columns, map(lambda x: round(x, 4), clf.feature_importances_)), \n",
    "             reverse=True,key=lambda tup: tup[1]):\n",
    "    print '%s\\t%.4f' % (x, y)\n",
    "print '==== validation ====='\n",
    "plot_c_matrix(y_predicted, y_test)"
   ]
  },
  {
   "cell_type": "code",
   "execution_count": 16,
   "metadata": {
    "collapsed": false
   },
   "outputs": [
    {
     "name": "stdout",
     "output_type": "stream",
     "text": [
      "decision tree accuracy(train):  0.898383371824\n",
      "decision accuracy(test):  0.495412844037\n",
      "====== Parameters analysis ========\n",
      "rpi_diff\t0.3295\n",
      "team_rating_diff\t0.1556\n",
      "win_pct_diff\t0.1158\n",
      "B_RPI_C\t0.0745\n",
      "TEAM_SEED\t0.0679\n",
      "RD7_WIN\t0.0675\n",
      "A_RPI\t0.0437\n",
      "RD7_WIN_1\t0.0393\n",
      "B_RPI\t0.0375\n",
      "TEAM_SEED_1\t0.0350\n",
      "A_RPI_C\t0.0336\n",
      "==== validation =====\n",
      "[[31 39]\n",
      " [16 23]]\n"
     ]
    },
    {
     "data": {
      "image/png": "[encoded data removed]",
      "text/plain": [
       "<matplotlib.figure.Figure at 0x10a4d9150>"
      ]
     },
     "metadata": {},
     "output_type": "display_data"
    }
   ],
   "source": [
    "#random forest regressor\n",
    "from sklearn.ensemble import RandomForestClassifier\n",
    "randf2 = RandomForestClassifier()\n",
    "randf2 = clf.fit(X_train, y_train)\n",
    "\n",
    "#predict\n",
    "y_predicted = randf2.predict(X_test)\n",
    "y_predicted_proba = randf2.predict_proba(X_test)\n",
    "\n",
    "print 'decision tree accuracy(train): ', randf2.score(X_train, y_train)\n",
    "print 'decision accuracy(test): ', randf2.score(X_test,y_test)\n",
    "print '====== Parameters analysis ========'\n",
    "for x,y in sorted(zip(X_train.columns, map(lambda x: round(x, 4), randf2.feature_importances_)), \n",
    "             reverse=True,key=lambda tup: tup[1]):\n",
    "    print '%s\\t%.4f' % (x, y)\n",
    "print '==== validation ====='\n",
    "plot_c_matrix(y_predicted, y_test)"
   ]
  },
  {
   "cell_type": "code",
   "execution_count": 17,
   "metadata": {
    "collapsed": false
   },
   "outputs": [
    {
     "data": {
      "text/plain": [
       "['models/larh_logistic_reg.model',\n",
       " 'models/larh_logistic_reg.model_01.npy',\n",
       " 'models/larh_logistic_reg.model_02.npy',\n",
       " 'models/larh_logistic_reg.model_03.npy']"
      ]
     },
     "execution_count": 17,
     "metadata": {},
     "output_type": "execute_result"
    }
   ],
   "source": [
    "#save model for future use\n",
    "from sklearn.externals import joblib\n",
    "joblib.dump(clf, 'models/larh_decision_t.model')\n",
    "joblib.dump(randf2, 'models/larh_random_forest.model')\n",
    "joblib.dump(model, 'models/larh_logistic_reg.model')"
   ]
  },
  {
   "cell_type": "code",
   "execution_count": null,
   "metadata": {
    "collapsed": true
   },
   "outputs": [],
   "source": []
  }
 ],
 "metadata": {
  "celltoolbar": "Raw Cell Format",
  "kernelspec": {
   "display_name": "Python 2",
   "language": "python",
   "name": "python2"
  },
  "language_info": {
   "codemirror_mode": {
    "name": "ipython",
    "version": 2
   },
   "file_extension": ".py",
   "mimetype": "text/x-python",
   "name": "python",
   "nbconvert_exporter": "python",
   "pygments_lexer": "ipython2",
   "version": "2.7.10"
  }
 },
 "nbformat": 4,
 "nbformat_minor": 0
}
